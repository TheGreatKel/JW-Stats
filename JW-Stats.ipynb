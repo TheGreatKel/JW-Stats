{
 "cells": [
  {
   "cell_type": "markdown",
   "metadata": {},
   "source": [
    "# Statistical Study on Growth of Jehovah's Witnesses\n",
    "This is a project to find insights on the growth of Jehovah's Witnesses since 1991 using Python Data Science Libraries (pandas, numpy, matplotlib, & sk-learn). I also applied a Multiple Linear Regression machine learning model to make predictions."
   ]
  },
  {
   "cell_type": "markdown",
   "metadata": {},
   "source": [
    "## Background\n",
    "\n",
    "I will study the growth of the religious organization through a few variables:\n",
    "\n",
    "* **Peak Publishers**: “Publishers” includes baptized Witnesses of Jehovah as well as unbaptized ones who qualify to be Kingdom preachers. “Peak publishers” is the highest number reporting for any one month of the service year.\n",
    "* **Average Publishers**: \"Average publishers” is the typical number of different ones reporting time in the ministry each month.\n",
    "* **Total Hours Spent in Field**: The total number of hours spent preaching in the minstry worldwide.\n",
    "* **Total Number Baptized**: The number of people that were baptized in that year. Usually, when a person is baptized, this means they officially join the organization.\n",
    "* **Memorial Partakers**: The number of baptized individuals who partake of the emblems at the Memorial worldwide.\n",
    "* **Worldwide Memorial Attendance**: The number of people that attend the Memorial.\n",
    "* **Total Congregations**: The number of congregations (worship groups) worldwide.\n",
    "* **Average Bible Studies Each Month**: The typical number of different Bible studies taking place each month."
   ]
  },
  {
   "cell_type": "markdown",
   "metadata": {},
   "source": [
    "## Import and View Data\n",
    "\n",
    "We will start by importing the necessary libraries:"
   ]
  },
  {
   "cell_type": "code",
   "execution_count": 1,
   "metadata": {},
   "outputs": [],
   "source": [
    "import numpy as np\n",
    "import pandas as pd\n",
    "import matplotlib.pyplot as plt\n",
    "from sklearn.linear_model import LinearRegression\n",
    "from sklearn.model_selection import train_test_split\n",
    "%matplotlib inline"
   ]
  },
  {
   "cell_type": "markdown",
   "metadata": {},
   "source": [
    "Next I will import data from a table I created with [Watchtower Online Library](https://wol.jw.org/en/wol/d/r1/lp-e/1200275209) :"
   ]
  },
  {
   "cell_type": "code",
   "execution_count": 2,
   "metadata": {
    "scrolled": true
   },
   "outputs": [
    {
     "data": {
      "text/html": [
       "<div>\n",
       "<style scoped>\n",
       "    .dataframe tbody tr th:only-of-type {\n",
       "        vertical-align: middle;\n",
       "    }\n",
       "\n",
       "    .dataframe tbody tr th {\n",
       "        vertical-align: top;\n",
       "    }\n",
       "\n",
       "    .dataframe thead th {\n",
       "        text-align: right;\n",
       "    }\n",
       "</style>\n",
       "<table border=\"1\" class=\"dataframe\">\n",
       "  <thead>\n",
       "    <tr style=\"text-align: right;\">\n",
       "      <th></th>\n",
       "      <th>Year</th>\n",
       "      <th>Total Congregations</th>\n",
       "      <th>Worldwide Memorial Attendance</th>\n",
       "      <th>Memorial Partakers Worldwide</th>\n",
       "      <th>Peak of Publishers</th>\n",
       "      <th>Average Publishers Preaching Each Month</th>\n",
       "      <th>Total Number Baptized</th>\n",
       "      <th>Total Hours Spent in Field</th>\n",
       "      <th>Average Bible Studies Each Month</th>\n",
       "    </tr>\n",
       "  </thead>\n",
       "  <tbody>\n",
       "    <tr>\n",
       "      <th>0</th>\n",
       "      <td>1991</td>\n",
       "      <td>66207</td>\n",
       "      <td>10650158</td>\n",
       "      <td>8850</td>\n",
       "      <td>4278820</td>\n",
       "      <td>4071954</td>\n",
       "      <td>300945</td>\n",
       "      <td>951870021</td>\n",
       "      <td>3947261</td>\n",
       "    </tr>\n",
       "    <tr>\n",
       "      <th>1</th>\n",
       "      <td>1992</td>\n",
       "      <td>69558</td>\n",
       "      <td>11431171</td>\n",
       "      <td>8683</td>\n",
       "      <td>4472787</td>\n",
       "      <td>4289737</td>\n",
       "      <td>301002</td>\n",
       "      <td>1024910434</td>\n",
       "      <td>4278127</td>\n",
       "    </tr>\n",
       "    <tr>\n",
       "      <th>2</th>\n",
       "      <td>1993</td>\n",
       "      <td>73070</td>\n",
       "      <td>11865765</td>\n",
       "      <td>8693</td>\n",
       "      <td>4709889</td>\n",
       "      <td>4483900</td>\n",
       "      <td>296004</td>\n",
       "      <td>1057341972</td>\n",
       "      <td>4515587</td>\n",
       "    </tr>\n",
       "    <tr>\n",
       "      <th>3</th>\n",
       "      <td>1994</td>\n",
       "      <td>75573</td>\n",
       "      <td>12288917</td>\n",
       "      <td>8617</td>\n",
       "      <td>4914094</td>\n",
       "      <td>4695111</td>\n",
       "      <td>314818</td>\n",
       "      <td>1096065354</td>\n",
       "      <td>4701357</td>\n",
       "    </tr>\n",
       "    <tr>\n",
       "      <th>4</th>\n",
       "      <td>1995</td>\n",
       "      <td>78620</td>\n",
       "      <td>13147201</td>\n",
       "      <td>8645</td>\n",
       "      <td>5199895</td>\n",
       "      <td>4950344</td>\n",
       "      <td>338491</td>\n",
       "      <td>1150353444</td>\n",
       "      <td>4865060</td>\n",
       "    </tr>\n",
       "  </tbody>\n",
       "</table>\n",
       "</div>"
      ],
      "text/plain": [
       "   Year  Total Congregations  Worldwide Memorial Attendance  \\\n",
       "0  1991                66207                       10650158   \n",
       "1  1992                69558                       11431171   \n",
       "2  1993                73070                       11865765   \n",
       "3  1994                75573                       12288917   \n",
       "4  1995                78620                       13147201   \n",
       "\n",
       "   Memorial Partakers Worldwide  Peak of Publishers  \\\n",
       "0                          8850             4278820   \n",
       "1                          8683             4472787   \n",
       "2                          8693             4709889   \n",
       "3                          8617             4914094   \n",
       "4                          8645             5199895   \n",
       "\n",
       "   Average Publishers Preaching Each Month  Total Number Baptized  \\\n",
       "0                                  4071954                 300945   \n",
       "1                                  4289737                 301002   \n",
       "2                                  4483900                 296004   \n",
       "3                                  4695111                 314818   \n",
       "4                                  4950344                 338491   \n",
       "\n",
       "   Total Hours Spent in Field  Average Bible Studies Each Month  \n",
       "0                   951870021                           3947261  \n",
       "1                  1024910434                           4278127  \n",
       "2                  1057341972                           4515587  \n",
       "3                  1096065354                           4701357  \n",
       "4                  1150353444                           4865060  "
      ]
     },
     "execution_count": 2,
     "metadata": {},
     "output_type": "execute_result"
    }
   ],
   "source": [
    "df = pd.read_csv(\"./data.csv\")\n",
    "df.head()"
   ]
  },
  {
   "cell_type": "markdown",
   "metadata": {},
   "source": [
    "## Exploratory Analysis\n",
    "\n",
    "To explore our data, we will graph certain variables over time to observe growth.\n",
    "\n"
   ]
  },
  {
   "cell_type": "markdown",
   "metadata": {},
   "source": [
    "### Peak Publishers, Average Publishers, and Average Bible Studies"
   ]
  },
  {
   "cell_type": "code",
   "execution_count": 3,
   "metadata": {},
   "outputs": [
    {
     "data": {
      "image/png": "[encoded data removed]",
      "text/plain": [
       "<Figure size 432x288 with 1 Axes>"
      ]
     },
     "metadata": {
      "needs_background": "light"
     },
     "output_type": "display_data"
    }
   ],
   "source": [
    "year = df[\"Year\"]\n",
    "\n",
    "plt.plot(year, df[\"Peak of Publishers\"], label=\"Peak of Publishers\")\n",
    "plt.plot(year, df[\"Average Publishers Preaching Each Month\"], label=\"Average Publishers Preaching Each Month\")\n",
    "plt.plot(year, df[\"Average Bible Studies Each Month\"], label=\"Average Bible Studies Each Month\")\n",
    "plt.grid(color=\"Gray\", linestyle=\"-\", linewidth=0.5)\n",
    "plt.legend()\n",
    "plt.show()"
   ]
  },
  {
   "cell_type": "markdown",
   "metadata": {},
   "source": [
    "Jehovah's Witnesses have had a nice growth of publishers over the last 28 years. Average Bible Studies have fluctuated more significantly, hitting an all time low in 1997 and an all time high in 2016."
   ]
  },
  {
   "cell_type": "markdown",
   "metadata": {},
   "source": [
    "### Total Congregations, Memorial Attendance, and Total Hours Spent in the Field"
   ]
  },
  {
   "cell_type": "code",
   "execution_count": 4,
   "metadata": {},
   "outputs": [
    {
     "data": {
      "image/png": "[encoded data removed]",
      "text/plain": [
       "<Figure size 432x288 with 3 Axes>"
      ]
     },
     "metadata": {
      "needs_background": "light"
     },
     "output_type": "display_data"
    }
   ],
   "source": [
    "fig, axes = plt.subplots(nrows=1, ncols=3)\n",
    "plt.subplots_adjust(right=2)\n",
    "df.plot(x=\"Year\", y=\"Total Congregations\", title=\"Total Congregations\", ax=axes[0], grid=True, legend=False, color='skyblue')\n",
    "df.plot(x=\"Year\", y=\"Worldwide Memorial Attendance\", title=\"Worldwide Memorial Attendance\", ax=axes[1], grid=True, legend=False, color='darkseagreen')\n",
    "df.plot(x=\"Year\", y=\"Total Hours Spent in Field\", title=\"Total Hours Spent in Field\", ax=axes[2], grid=True, legend=False, color='thistle')\n",
    "plt.show()"
   ]
  },
  {
   "cell_type": "markdown",
   "metadata": {},
   "source": [
    "There has been tremendous growth in all three variables. While the number of congregations has started to plateau, both Memorial Attendance and Total Hours hit thier peaks in 2019."
   ]
  },
  {
   "cell_type": "markdown",
   "metadata": {},
   "source": [
    "### Memorial Partakers"
   ]
  },
  {
   "cell_type": "code",
   "execution_count": 5,
   "metadata": {},
   "outputs": [
    {
     "data": {
      "image/png": "[encoded data removed]",
      "text/plain": [
       "<Figure size 432x288 with 1 Axes>"
      ]
     },
     "metadata": {
      "needs_background": "light"
     },
     "output_type": "display_data"
    }
   ],
   "source": [
    "plt.plot(year, df[\"Memorial Partakers Worldwide\"], label=\"Memorial Partakers Worldwide\")\n",
    "plt.title(\"Memorial Partakers Worldwide\")\n",
    "plt.xlabel(\"Year\")\n",
    "plt.grid(color=\"Gray\", linestyle=\"-\", linewidth=0.5)"
   ]
  },
  {
   "cell_type": "markdown",
   "metadata": {},
   "source": [
    "Wow! The number of memorial partakers each year remained relatively flat until 2005. After that it exploded! It went from 8,524 in 2005 to 20,526 in 2019. That is a 141% increase!"
   ]
  },
  {
   "cell_type": "markdown",
   "metadata": {},
   "source": [
    "### Total Number Baptized"
   ]
  },
  {
   "cell_type": "code",
   "execution_count": 6,
   "metadata": {},
   "outputs": [
    {
     "data": {
      "image/png": "[encoded data removed]",
      "text/plain": [
       "<Figure size 432x288 with 1 Axes>"
      ]
     },
     "metadata": {
      "needs_background": "light"
     },
     "output_type": "display_data"
    }
   ],
   "source": [
    "index = np.arange(len(year))\n",
    "bap = df[\"Total Number Baptized\"]\n",
    "plt.bar(index,bap,color=\"BlueViolet\")\n",
    "plt.xlabel(\"Year\")\n",
    "plt.ylabel(\"Number Baptized\")\n",
    "plt.xticks(index,year,rotation=\"vertical\")\n",
    "plt.title(\"Total Number Baptized Over Time\")\n",
    "plt.show()"
   ]
  },
  {
   "cell_type": "markdown",
   "metadata": {},
   "source": [
    "This plot has a bit of fluctuation. In the 1990s, a high number of people were getting baptized. However, the number steadily dropped in the 2000s. Ever since 2015, the number has started to rise again. The most people the were ever baptized was in 1997."
   ]
  },
  {
   "cell_type": "markdown",
   "metadata": {},
   "source": [
    "## Multiple Linear Regression\n",
    "\n",
    "For our linear regression model, we will predict the Peak of Publishers with the rest of the columns in our dataframe. \n",
    "\n",
    "Let's start by the examining the correlations between our variables and the Peak of Publishers column:"
   ]
  },
  {
   "cell_type": "code",
   "execution_count": 7,
   "metadata": {},
   "outputs": [
    {
     "data": {
      "text/html": [
       "<div>\n",
       "<style scoped>\n",
       "    .dataframe tbody tr th:only-of-type {\n",
       "        vertical-align: middle;\n",
       "    }\n",
       "\n",
       "    .dataframe tbody tr th {\n",
       "        vertical-align: top;\n",
       "    }\n",
       "\n",
       "    .dataframe thead th {\n",
       "        text-align: right;\n",
       "    }\n",
       "</style>\n",
       "<table border=\"1\" class=\"dataframe\">\n",
       "  <thead>\n",
       "    <tr style=\"text-align: right;\">\n",
       "      <th></th>\n",
       "      <th>Year</th>\n",
       "      <th>Total Congregations</th>\n",
       "      <th>Worldwide Memorial Attendance</th>\n",
       "      <th>Memorial Partakers Worldwide</th>\n",
       "      <th>Peak of Publishers</th>\n",
       "      <th>Average Publishers Preaching Each Month</th>\n",
       "      <th>Total Number Baptized</th>\n",
       "      <th>Total Hours Spent in Field</th>\n",
       "      <th>Average Bible Studies Each Month</th>\n",
       "    </tr>\n",
       "  </thead>\n",
       "  <tbody>\n",
       "    <tr>\n",
       "      <th>Year</th>\n",
       "      <td>1.000000</td>\n",
       "      <td>0.990791</td>\n",
       "      <td>0.990214</td>\n",
       "      <td>0.834687</td>\n",
       "      <td>0.996050</td>\n",
       "      <td>0.997468</td>\n",
       "      <td>-0.495717</td>\n",
       "      <td>0.964361</td>\n",
       "      <td>0.964233</td>\n",
       "    </tr>\n",
       "    <tr>\n",
       "      <th>Total Congregations</th>\n",
       "      <td>0.990791</td>\n",
       "      <td>1.000000</td>\n",
       "      <td>0.991559</td>\n",
       "      <td>0.786101</td>\n",
       "      <td>0.997272</td>\n",
       "      <td>0.996918</td>\n",
       "      <td>-0.495738</td>\n",
       "      <td>0.939586</td>\n",
       "      <td>0.937706</td>\n",
       "    </tr>\n",
       "    <tr>\n",
       "      <th>Worldwide Memorial Attendance</th>\n",
       "      <td>0.990214</td>\n",
       "      <td>0.991559</td>\n",
       "      <td>1.000000</td>\n",
       "      <td>0.769881</td>\n",
       "      <td>0.993007</td>\n",
       "      <td>0.992730</td>\n",
       "      <td>-0.501126</td>\n",
       "      <td>0.937542</td>\n",
       "      <td>0.942268</td>\n",
       "    </tr>\n",
       "    <tr>\n",
       "      <th>Memorial Partakers Worldwide</th>\n",
       "      <td>0.834687</td>\n",
       "      <td>0.786101</td>\n",
       "      <td>0.769881</td>\n",
       "      <td>1.000000</td>\n",
       "      <td>0.812087</td>\n",
       "      <td>0.820400</td>\n",
       "      <td>-0.208212</td>\n",
       "      <td>0.921657</td>\n",
       "      <td>0.880280</td>\n",
       "    </tr>\n",
       "    <tr>\n",
       "      <th>Peak of Publishers</th>\n",
       "      <td>0.996050</td>\n",
       "      <td>0.997272</td>\n",
       "      <td>0.993007</td>\n",
       "      <td>0.812087</td>\n",
       "      <td>1.000000</td>\n",
       "      <td>0.999624</td>\n",
       "      <td>-0.472351</td>\n",
       "      <td>0.956578</td>\n",
       "      <td>0.952028</td>\n",
       "    </tr>\n",
       "    <tr>\n",
       "      <th>Average Publishers Preaching Each Month</th>\n",
       "      <td>0.997468</td>\n",
       "      <td>0.996918</td>\n",
       "      <td>0.992730</td>\n",
       "      <td>0.820400</td>\n",
       "      <td>0.999624</td>\n",
       "      <td>1.000000</td>\n",
       "      <td>-0.476570</td>\n",
       "      <td>0.958964</td>\n",
       "      <td>0.955286</td>\n",
       "    </tr>\n",
       "    <tr>\n",
       "      <th>Total Number Baptized</th>\n",
       "      <td>-0.495717</td>\n",
       "      <td>-0.495738</td>\n",
       "      <td>-0.501126</td>\n",
       "      <td>-0.208212</td>\n",
       "      <td>-0.472351</td>\n",
       "      <td>-0.476570</td>\n",
       "      <td>1.000000</td>\n",
       "      <td>-0.357498</td>\n",
       "      <td>-0.440054</td>\n",
       "    </tr>\n",
       "    <tr>\n",
       "      <th>Total Hours Spent in Field</th>\n",
       "      <td>0.964361</td>\n",
       "      <td>0.939586</td>\n",
       "      <td>0.937542</td>\n",
       "      <td>0.921657</td>\n",
       "      <td>0.956578</td>\n",
       "      <td>0.958964</td>\n",
       "      <td>-0.357498</td>\n",
       "      <td>1.000000</td>\n",
       "      <td>0.987267</td>\n",
       "    </tr>\n",
       "    <tr>\n",
       "      <th>Average Bible Studies Each Month</th>\n",
       "      <td>0.964233</td>\n",
       "      <td>0.937706</td>\n",
       "      <td>0.942268</td>\n",
       "      <td>0.880280</td>\n",
       "      <td>0.952028</td>\n",
       "      <td>0.955286</td>\n",
       "      <td>-0.440054</td>\n",
       "      <td>0.987267</td>\n",
       "      <td>1.000000</td>\n",
       "    </tr>\n",
       "  </tbody>\n",
       "</table>\n",
       "</div>"
      ],
      "text/plain": [
       "                                             Year  Total Congregations  \\\n",
       "Year                                     1.000000             0.990791   \n",
       "Total Congregations                      0.990791             1.000000   \n",
       "Worldwide Memorial Attendance            0.990214             0.991559   \n",
       "Memorial Partakers Worldwide             0.834687             0.786101   \n",
       "Peak of Publishers                       0.996050             0.997272   \n",
       "Average Publishers Preaching Each Month  0.997468             0.996918   \n",
       "Total Number Baptized                   -0.495717            -0.495738   \n",
       "Total Hours Spent in Field               0.964361             0.939586   \n",
       "Average Bible Studies Each Month         0.964233             0.937706   \n",
       "\n",
       "                                         Worldwide Memorial Attendance  \\\n",
       "Year                                                          0.990214   \n",
       "Total Congregations                                           0.991559   \n",
       "Worldwide Memorial Attendance                                 1.000000   \n",
       "Memorial Partakers Worldwide                                  0.769881   \n",
       "Peak of Publishers                                            0.993007   \n",
       "Average Publishers Preaching Each Month                       0.992730   \n",
       "Total Number Baptized                                        -0.501126   \n",
       "Total Hours Spent in Field                                    0.937542   \n",
       "Average Bible Studies Each Month                              0.942268   \n",
       "\n",
       "                                         Memorial Partakers Worldwide  \\\n",
       "Year                                                         0.834687   \n",
       "Total Congregations                                          0.786101   \n",
       "Worldwide Memorial Attendance                                0.769881   \n",
       "Memorial Partakers Worldwide                                 1.000000   \n",
       "Peak of Publishers                                           0.812087   \n",
       "Average Publishers Preaching Each Month                      0.820400   \n",
       "Total Number Baptized                                       -0.208212   \n",
       "Total Hours Spent in Field                                   0.921657   \n",
       "Average Bible Studies Each Month                             0.880280   \n",
       "\n",
       "                                         Peak of Publishers  \\\n",
       "Year                                               0.996050   \n",
       "Total Congregations                                0.997272   \n",
       "Worldwide Memorial Attendance                      0.993007   \n",
       "Memorial Partakers Worldwide                       0.812087   \n",
       "Peak of Publishers                                 1.000000   \n",
       "Average Publishers Preaching Each Month            0.999624   \n",
       "Total Number Baptized                             -0.472351   \n",
       "Total Hours Spent in Field                         0.956578   \n",
       "Average Bible Studies Each Month                   0.952028   \n",
       "\n",
       "                                         Average Publishers Preaching Each Month  \\\n",
       "Year                                                                    0.997468   \n",
       "Total Congregations                                                     0.996918   \n",
       "Worldwide Memorial Attendance                                           0.992730   \n",
       "Memorial Partakers Worldwide                                            0.820400   \n",
       "Peak of Publishers                                                      0.999624   \n",
       "Average Publishers Preaching Each Month                                 1.000000   \n",
       "Total Number Baptized                                                  -0.476570   \n",
       "Total Hours Spent in Field                                              0.958964   \n",
       "Average Bible Studies Each Month                                        0.955286   \n",
       "\n",
       "                                         Total Number Baptized  \\\n",
       "Year                                                 -0.495717   \n",
       "Total Congregations                                  -0.495738   \n",
       "Worldwide Memorial Attendance                        -0.501126   \n",
       "Memorial Partakers Worldwide                         -0.208212   \n",
       "Peak of Publishers                                   -0.472351   \n",
       "Average Publishers Preaching Each Month              -0.476570   \n",
       "Total Number Baptized                                 1.000000   \n",
       "Total Hours Spent in Field                           -0.357498   \n",
       "Average Bible Studies Each Month                     -0.440054   \n",
       "\n",
       "                                         Total Hours Spent in Field  \\\n",
       "Year                                                       0.964361   \n",
       "Total Congregations                                        0.939586   \n",
       "Worldwide Memorial Attendance                              0.937542   \n",
       "Memorial Partakers Worldwide                               0.921657   \n",
       "Peak of Publishers                                         0.956578   \n",
       "Average Publishers Preaching Each Month                    0.958964   \n",
       "Total Number Baptized                                     -0.357498   \n",
       "Total Hours Spent in Field                                 1.000000   \n",
       "Average Bible Studies Each Month                           0.987267   \n",
       "\n",
       "                                         Average Bible Studies Each Month  \n",
       "Year                                                             0.964233  \n",
       "Total Congregations                                              0.937706  \n",
       "Worldwide Memorial Attendance                                    0.942268  \n",
       "Memorial Partakers Worldwide                                     0.880280  \n",
       "Peak of Publishers                                               0.952028  \n",
       "Average Publishers Preaching Each Month                          0.955286  \n",
       "Total Number Baptized                                           -0.440054  \n",
       "Total Hours Spent in Field                                       0.987267  \n",
       "Average Bible Studies Each Month                                 1.000000  "
      ]
     },
     "execution_count": 7,
     "metadata": {},
     "output_type": "execute_result"
    }
   ],
   "source": [
    "df.corr()"
   ]
  },
  {
   "cell_type": "markdown",
   "metadata": {},
   "source": [
    "Our all of our variables correlate fairly well with Peak of Publishers (except Total Number Baptized)."
   ]
  },
  {
   "cell_type": "markdown",
   "metadata": {},
   "source": [
    "### Select and Split Data"
   ]
  },
  {
   "cell_type": "code",
   "execution_count": 8,
   "metadata": {},
   "outputs": [],
   "source": [
    "#defining our independent and dependent variables\n",
    "features = df[['Year','Total Congregations','Worldwide Memorial Attendance','Memorial Partakers Worldwide','Average Publishers Preaching Each Month','Total Number Baptized','Total Hours Spent in Field','Average Bible Studies Each Month']]\n",
    "peak = df[\"Peak of Publishers\"]\n",
    "\n",
    "#Split Data into training and testing sets\n",
    "x_train, x_test, y_train, y_test = train_test_split(features, peak, test_size = 0.2)"
   ]
  },
  {
   "cell_type": "markdown",
   "metadata": {},
   "source": [
    "### Create and Fit the Model\n"
   ]
  },
  {
   "cell_type": "code",
   "execution_count": 9,
   "metadata": {},
   "outputs": [],
   "source": [
    "model = LinearRegression().fit(x_train,y_train)"
   ]
  },
  {
   "cell_type": "markdown",
   "metadata": {},
   "source": [
    "### Evaluate Model \n",
    "\n",
    "To begin our evaluation of the model, we will look at the r^2 scores for both the training and testing data:"
   ]
  },
  {
   "cell_type": "code",
   "execution_count": 10,
   "metadata": {},
   "outputs": [
    {
     "data": {
      "text/plain": [
       "0.9997783597431962"
      ]
     },
     "execution_count": 10,
     "metadata": {},
     "output_type": "execute_result"
    }
   ],
   "source": [
    "model.score(x_train,y_train)"
   ]
  },
  {
   "cell_type": "code",
   "execution_count": 11,
   "metadata": {},
   "outputs": [
    {
     "data": {
      "text/plain": [
       "0.9997725098795058"
      ]
     },
     "execution_count": 11,
     "metadata": {},
     "output_type": "execute_result"
    }
   ],
   "source": [
    "model.score(x_test,y_test)"
   ]
  },
  {
   "cell_type": "markdown",
   "metadata": {},
   "source": [
    "Wow! We have r^2 scores of nearly 100% for both our training and testing sets! We can make some solid predictions with this model.\n",
    "\n",
    "Now let's use the .coef_ attribute to see which features had the biggest influence on our dependent variable (Peak of Publishers):"
   ]
  },
  {
   "cell_type": "code",
   "execution_count": 12,
   "metadata": {},
   "outputs": [
    {
     "data": {
      "text/plain": [
       "[('Year', -9370.898997585362),\n",
       " ('Memorial Partakers Worldwide', -32.723144270102175),\n",
       " ('Total Congregations', -7.931434577715768),\n",
       " ('Average Publishers Preaching Each Month', 1.2284885517820676),\n",
       " ('Total Number Baptized', -0.11328461152465875),\n",
       " ('Average Bible Studies Each Month', -0.06376351850588984),\n",
       " ('Worldwide Memorial Attendance', -0.03621087621589042),\n",
       " ('Total Hours Spent in Field', 0.0007317017088990241)]"
      ]
     },
     "execution_count": 12,
     "metadata": {},
     "output_type": "execute_result"
    }
   ],
   "source": [
    "sorted(list(zip(features,model.coef_)),key = lambda x: abs(x[1]),reverse=True)"
   ]
  },
  {
   "cell_type": "markdown",
   "metadata": {},
   "source": [
    "Lastly, we will plot our predicted y-values against our actual y-values. A perfect linear model would be the y=x line:"
   ]
  },
  {
   "cell_type": "code",
   "execution_count": 13,
   "metadata": {
    "scrolled": true
   },
   "outputs": [
    {
     "data": {
      "image/png": "[encoded data removed]",
      "text/plain": [
       "<Figure size 432x288 with 1 Axes>"
      ]
     },
     "metadata": {
      "needs_background": "light"
     },
     "output_type": "display_data"
    }
   ],
   "source": [
    "y_predicted = model.predict(x_test)\n",
    "\n",
    "plt.scatter(y_test,y_predicted)\n",
    "plt.xlabel('Peak of Publishers')\n",
    "plt.ylabel('Predicted Peak of Publishers')\n",
    "\n",
    "plt.savefig('/Users/kelvenopoku/Desktop/JW-Stats/plots/Predicted-Actual')\n",
    "plt.show()"
   ]
  },
  {
   "cell_type": "markdown",
   "metadata": {},
   "source": [
    "Pretty Good! Our points are very close to the y=x line."
   ]
  },
  {
   "cell_type": "markdown",
   "metadata": {},
   "source": [
    "## Conclusion"
   ]
  },
  {
   "cell_type": "markdown",
   "metadata": {},
   "source": [
    "This was an informative and interesting problem where I got to apply a machine learning model to understand and evaluate my data."
   ]
  }
 ],
 "metadata": {
  "kernelspec": {
   "display_name": "Python 3",
   "language": "python",
   "name": "python3"
  },
  "language_info": {
   "codemirror_mode": {
    "name": "ipython",
    "version": 3
   },
   "file_extension": ".py",
   "mimetype": "text/x-python",
   "name": "python",
   "nbconvert_exporter": "python",
   "pygments_lexer": "ipython3",
   "version": "3.7.3"
  }
 },
 "nbformat": 4,
 "nbformat_minor": 4
}
