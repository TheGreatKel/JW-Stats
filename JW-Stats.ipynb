{
 "cells": [
  {
   "cell_type": "markdown",
   "metadata": {},
   "source": [
    "# Statistical Study on Growth of Jehovah's Witnesses\n",
    "This is a project to find insights on the growth of Jehovah's Witnesses since 1991 using Python Data Science Libraries (pandas, numpy, matplotlib, & sk-learn). I also applied a Multiple Linear Regression machine learning model to make predictions."
   ]
  },
  {
   "cell_type": "markdown",
   "metadata": {},
   "source": [
    "## Background\n",
    "\n",
    "I will study the growth of the religious organization through a few variables:\n",
    "\n",
    "* **Peak Publishers**: “Publishers” includes baptized Witnesses of Jehovah as well as unbaptized ones who qualify to be Kingdom preachers. “Peak publishers” is the highest number reporting for any one month of the service year.\n",
    "* **Average Publishers**: \"Average publishers” is the typical number of different ones reporting time in the ministry each month.\n",
    "* **Total Hours Spent in Field**: The total number of hours spent preaching in the minstry worldwide.\n",
    "* **Total Number Baptized**: The number of people that were baptized in that year. Usually, when a person is baptized, this means they officially join the organization.\n",
    "* **Memorial Partakers**: The number of baptized individuals who partake of the emblems at the Memorial worldwide.\n",
    "* **Worldwide Memorial Attendance**: The number of people that attend the Memorial.\n",
    "* **Total Congregations**: The number of congregations (worship groups) worldwide.\n",
    "* **Average Bible Studies Each Month**: The typical number of different Bible studies taking place each month."
   ]
  },
  {
   "cell_type": "markdown",
   "metadata": {},
   "source": [
    "## Import and View Data\n",
    "\n",
    "We will start by importing the necessary libraries:"
   ]
  },
  {
   "cell_type": "code",
   "execution_count": null,
   "metadata": {},
   "outputs": [],
   "source": [
    "import numpy as np\n",
    "import pandas as pd\n",
    "import matplotlib.pyplot as plt\n",
    "from sklearn.linear_model import LinearRegression\n",
    "from sklearn.model_selection import train_test_split\n",
    "%matplotlib inline"
   ]
  },
  {
   "cell_type": "markdown",
   "metadata": {},
   "source": [
    "Next I will import data from a table I created with [Watchtower Online Library](https://wol.jw.org/en/wol/d/r1/lp-e/1200275209) :"
   ]
  },
  {
   "cell_type": "code",
   "execution_count": null,
   "metadata": {
    "scrolled": true
   },
   "outputs": [],
   "source": [
    "df = pd.read_csv(\"./data.csv\")\n",
    "df.head()"
   ]
  },
  {
   "cell_type": "markdown",
   "metadata": {},
   "source": [
    "## Exploratory Analysis\n",
    "\n",
    "To explore our data, we will graph certain variables over time to observe growth.\n",
    "\n"
   ]
  },
  {
   "cell_type": "markdown",
   "metadata": {},
   "source": [
    "### Peak Publishers, Average Publishers, and Average Bible Studies"
   ]
  },
  {
   "cell_type": "code",
   "execution_count": null,
   "metadata": {},
   "outputs": [],
   "source": [
    "year = df[\"Year\"]\n",
    "\n",
    "plt.plot(year, df[\"Peak of Publishers\"], label=\"Peak of Publishers\")\n",
    "plt.plot(year, df[\"Average Publishers Preaching Each Month\"], label=\"Average Publishers Preaching Each Month\")\n",
    "plt.plot(year, df[\"Average Bible Studies Each Month\"], label=\"Average Bible Studies Each Month\")\n",
    "plt.grid(color=\"Gray\", linestyle=\"-\", linewidth=0.5)\n",
    "plt.legend()\n",
    "plt.show()"
   ]
  },
  {
   "cell_type": "markdown",
   "metadata": {},
   "source": [
    "Jehovah's Witnesses have had a nice growth of publishers over the last 28 years. Average Bible Studies have fluctuated more significantly, hitting an all time low in 1997 and an all time high in 2016."
   ]
  },
  {
   "cell_type": "markdown",
   "metadata": {},
   "source": [
    "### Total Congregations, Memorial Attendance, and Total Hours Spent in the Field"
   ]
  },
  {
   "cell_type": "code",
   "execution_count": null,
   "metadata": {},
   "outputs": [],
   "source": [
    "fig, axes = plt.subplots(nrows=1, ncols=3)\n",
    "plt.subplots_adjust(right=2)\n",
    "df.plot(x=\"Year\", y=\"Total Congregations\", title=\"Total Congregations\", ax=axes[0], grid=True, legend=False, color='skyblue')\n",
    "df.plot(x=\"Year\", y=\"Worldwide Memorial Attendance\", title=\"Worldwide Memorial Attendance\", ax=axes[1], grid=True, legend=False, color='darkseagreen')\n",
    "df.plot(x=\"Year\", y=\"Total Hours Spent in Field\", title=\"Total Hours Spent in Field\", ax=axes[2], grid=True, legend=False, color='thistle')\n",
    "plt.show()"
   ]
  },
  {
   "cell_type": "markdown",
   "metadata": {},
   "source": [
    "There has been tremendous growth in all three variables. While the number of congregations has started to plateau, both Memorial Attendance and Total Hours hit thier peaks in 2019."
   ]
  },
  {
   "cell_type": "markdown",
   "metadata": {},
   "source": [
    "### Memorial Partakers"
   ]
  },
  {
   "cell_type": "code",
   "execution_count": null,
   "metadata": {},
   "outputs": [],
   "source": [
    "plt.plot(year, df[\"Memorial Partakers Worldwide\"], label=\"Memorial Partakers Worldwide\")\n",
    "plt.title(\"Memorial Partakers Worldwide\")\n",
    "plt.xlabel(\"Year\")\n",
    "plt.grid(color=\"Gray\", linestyle=\"-\", linewidth=0.5)"
   ]
  },
  {
   "cell_type": "markdown",
   "metadata": {},
   "source": [
    "Wow! The number of memorial partakers each year remained relatively flat until 2005. After that it exploded! It went from 8,524 in 2005 to 20,526 in 2019. That is a 141% increase!"
   ]
  },
  {
   "cell_type": "markdown",
   "metadata": {},
   "source": [
    "### Total Number Baptized"
   ]
  },
  {
   "cell_type": "code",
   "execution_count": null,
   "metadata": {},
   "outputs": [],
   "source": [
    "index = np.arange(len(year))\n",
    "bap = df[\"Total Number Baptized\"]\n",
    "plt.bar(index,bap,color=\"BlueViolet\")\n",
    "plt.xlabel(\"Year\")\n",
    "plt.ylabel(\"Number Baptized\")\n",
    "plt.xticks(index,year,rotation=\"vertical\")\n",
    "plt.title(\"Total Number Baptized Over Time\")\n",
    "plt.show()"
   ]
  },
  {
   "cell_type": "markdown",
   "metadata": {},
   "source": [
    "This plot has a bit of fluctuation. In the 1990s, a high number of people were getting baptized. However, the number steadily dropped in the 2000s. Ever since 2015, the number has started to rise again. The most people the were ever baptized was in 1997."
   ]
  },
  {
   "cell_type": "markdown",
   "metadata": {},
   "source": [
    "## Multiple Linear Regression\n",
    "\n",
    "For our linear regression model, we will predict the Peak of Publishers with the rest of the columns in our dataframe. \n",
    "\n",
    "Let's start by the examining the correlations between our variables and the Peak of Publishers column:"
   ]
  },
  {
   "cell_type": "code",
   "execution_count": null,
   "metadata": {},
   "outputs": [],
   "source": [
    "df.corr()"
   ]
  },
  {
   "cell_type": "markdown",
   "metadata": {},
   "source": [
    "Our all of our variables correlate fairly well with Peak of Publishers (except Total Number Baptized)."
   ]
  },
  {
   "cell_type": "markdown",
   "metadata": {},
   "source": [
    "### Select and Split Data"
   ]
  },
  {
   "cell_type": "code",
   "execution_count": null,
   "metadata": {},
   "outputs": [],
   "source": [
    "#defining our independent and dependent variables\n",
    "features = df[['Year','Total Congregations','Worldwide Memorial Attendance','Memorial Partakers Worldwide','Average Publishers Preaching Each Month','Total Number Baptized','Total Hours Spent in Field','Average Bible Studies Each Month']]\n",
    "peak = df[\"Peak of Publishers\"]\n",
    "\n",
    "#Split Data into training and testing sets\n",
    "x_train, x_test, y_train, y_test = train_test_split(features, peak, test_size = 0.2)"
   ]
  },
  {
   "cell_type": "markdown",
   "metadata": {},
   "source": [
    "### Create and Fit the Model\n"
   ]
  },
  {
   "cell_type": "code",
   "execution_count": null,
   "metadata": {},
   "outputs": [],
   "source": [
    "model = LinearRegression().fit(x_train,y_train)"
   ]
  },
  {
   "cell_type": "markdown",
   "metadata": {},
   "source": [
    "### Evaluate Model \n",
    "\n",
    "To begin our evaluation of the model, we will look at the r^2 scores for both the training and testing data:"
   ]
  },
  {
   "cell_type": "code",
   "execution_count": null,
   "metadata": {},
   "outputs": [],
   "source": [
    "model.score(x_train,y_train)"
   ]
  },
  {
   "cell_type": "code",
   "execution_count": null,
   "metadata": {},
   "outputs": [],
   "source": [
    "model.score(x_test,y_test)"
   ]
  },
  {
   "cell_type": "markdown",
   "metadata": {},
   "source": [
    "Wow! We have r^2 scores of nearly 100% for both our training and testing sets! We can make some solid predictions with this model.\n",
    "\n",
    "Now let's use the .coef_ attribute to see which features had the biggest influence on our dependent variable (Peak of Publishers):"
   ]
  },
  {
   "cell_type": "code",
   "execution_count": null,
   "metadata": {},
   "outputs": [],
   "source": [
    "sorted(list(zip(features,model.coef_)),key = lambda x: abs(x[1]),reverse=True)"
   ]
  },
  {
   "cell_type": "markdown",
   "metadata": {},
   "source": [
    "Lastly, we will plot our predicted y-values against our actual y-values. A perfect linear model would be the y=x line:"
   ]
  },
  {
   "cell_type": "code",
   "execution_count": null,
   "metadata": {
    "scrolled": true
   },
   "outputs": [],
   "source": [
    "y_predicted = model.predict(x_test)\n",
    "\n",
    "plt.scatter(y_test,y_predicted)\n",
    "plt.xlabel('Peak of Publishers')\n",
    "plt.ylabel('Predicted Peak of Publishers')\n",
    "\n",
    "plt.savefig('/Users/kelvenopoku/Desktop/JW-Stats/plots/Predicted-Actual')\n",
    "plt.show()"
   ]
  },
  {
   "cell_type": "markdown",
   "metadata": {},
   "source": [
    "Pretty Good! Our points are very close to the y=x line."
   ]
  },
  {
   "cell_type": "markdown",
   "metadata": {},
   "source": [
    "## Conclusion"
   ]
  },
  {
   "cell_type": "markdown",
   "metadata": {},
   "source": [
    "This was an informative and interesting problem where I got to apply a machine learning model to understand and evaluate my data."
   ]
  }
 ],
 "metadata": {
  "kernelspec": {
   "display_name": "Python 3",
   "language": "python",
   "name": "python3"
  },
  "language_info": {
   "codemirror_mode": {
    "name": "ipython",
    "version": 3
   },
   "file_extension": ".py",
   "mimetype": "text/x-python",
   "name": "python",
   "nbconvert_exporter": "python",
   "pygments_lexer": "ipython3",
   "version": "3.7.3"
  }
 },
 "nbformat": 4,
 "nbformat_minor": 4
}
